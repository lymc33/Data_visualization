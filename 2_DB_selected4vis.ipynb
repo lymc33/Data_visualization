{
 "cells": [
  {
   "cell_type": "markdown",
   "metadata": {},
   "source": [
    "## Importaciones "
   ]
  },
  {
   "cell_type": "code",
   "execution_count": 1,
   "metadata": {},
   "outputs": [],
   "source": [
    "import pandas as pd"
   ]
  },
  {
   "cell_type": "code",
   "execution_count": 2,
   "metadata": {},
   "outputs": [],
   "source": [
    "df1 = pd.read_csv('/Users/yairmartinez/Documents/GitHub/Data_visualization/Extract/sales_train_evaluation.csv')\n",
    "df2= pd.read_csv('/Users/yairmartinez/Documents/GitHub/Data_visualization/Extract/sell_prices.csv')\n",
    "df3= pd.read_csv('/Users/yairmartinez/Documents/GitHub/Data_visualization/Extract/calendar.csv')"
   ]
  },
  {
   "cell_type": "markdown",
   "metadata": {},
   "source": [
    "## Comparaciones "
   ]
  },
  {
   "cell_type": "code",
   "execution_count": 3,
   "metadata": {},
   "outputs": [
    {
     "data": {
      "text/plain": [
       "((30490, 1947), (6841121, 4))"
      ]
     },
     "execution_count": 3,
     "metadata": {},
     "output_type": "execute_result"
    }
   ],
   "source": [
    "#  Se observan las diferencias en las dimenciones entre la tabla 1 y la 2\n",
    "df1.shape, df2.shape"
   ]
  },
  {
   "cell_type": "code",
   "execution_count": 4,
   "metadata": {},
   "outputs": [
    {
     "data": {
      "text/plain": [
       "(state_id\n",
       " CA    12196\n",
       " TX     9147\n",
       " WI     9147\n",
       " dtype: int64,\n",
       " store_id\n",
       " CA_1    3049\n",
       " CA_2    3049\n",
       " CA_3    3049\n",
       " CA_4    3049\n",
       " TX_1    3049\n",
       " TX_2    3049\n",
       " TX_3    3049\n",
       " WI_1    3049\n",
       " WI_2    3049\n",
       " WI_3    3049\n",
       " dtype: int64)"
      ]
     },
     "execution_count": 4,
     "metadata": {},
     "output_type": "execute_result"
    }
   ],
   "source": [
    "# Se visualiza el State con el Store en el df 1\n",
    "df1.pivot_table(index=['state_id'], aggfunc='size') , df1.pivot_table(index=['store_id'], aggfunc='size')"
   ]
  },
  {
   "cell_type": "code",
   "execution_count": 5,
   "metadata": {},
   "outputs": [
    {
     "data": {
      "text/plain": [
       "((3, 1), (10, 1))"
      ]
     },
     "execution_count": 5,
     "metadata": {},
     "output_type": "execute_result"
    }
   ],
   "source": [
    "# Se analiza el State con el Store en el df 1\n",
    "\n",
    "df1.pivot_table(index=['state_id'], aggfunc='size') , df1.pivot_table(index=['store_id'], aggfunc='size')\n",
    "\n",
    "df1_state = df1.pivot_table(index=['state_id'], aggfunc='size')  # Se agrupa  state_id y se suma cuantas veces sale\n",
    "df1_store = df1.pivot_table(index=['store_id'], aggfunc='size') # Se agrupa  store_id y se suma cuantas veces sale\n",
    "pd.DataFrame(df1_state.index).shape, pd.DataFrame(df1_store.index).shape # Se crea un data Frame con las \n",
    "                                                                   #  agrupaciones de wm_yr_wk y se comparan ,siendo iguales"
   ]
  },
  {
   "cell_type": "code",
   "execution_count": 6,
   "metadata": {},
   "outputs": [
    {
     "data": {
      "text/plain": [
       "store_id\n",
       "CA_1    698412\n",
       "CA_2    637395\n",
       "CA_3    693990\n",
       "CA_4    679025\n",
       "TX_1    699796\n",
       "TX_2    701214\n",
       "TX_3    691112\n",
       "WI_1    665912\n",
       "WI_2    678171\n",
       "WI_3    696094\n",
       "dtype: int64"
      ]
     },
     "execution_count": 6,
     "metadata": {},
     "output_type": "execute_result"
    }
   ],
   "source": [
    "# Se visualiza el Store en el df 2\n",
    "df2.pivot_table(index=['store_id'], aggfunc='size')"
   ]
  },
  {
   "cell_type": "code",
   "execution_count": 7,
   "metadata": {},
   "outputs": [
    {
     "name": "stdout",
     "output_type": "stream",
     "text": [
      "Empty DataFrame\n",
      "Columns: []\n",
      "Index: []\n"
     ]
    }
   ],
   "source": [
    "# Se compara item_id entre df1 y df2\n",
    "\n",
    "df1_item = df1.pivot_table(index=['item_id'], aggfunc='size')  # Se agrupa item_id en df1\n",
    "df2_item = df2.pivot_table(index=['item_id'], aggfunc='size') # Se agrupa item_id en df2\n",
    "\n",
    "print((pd.DataFrame(df1_item.index)).compare(pd.DataFrame(df2_item.index)))\n",
    "\n",
    "# Se comprueba que existen los mismos elem entos y no hay faltantes"
   ]
  }
 ],
 "metadata": {
  "kernelspec": {
   "display_name": "Python 3.10.5 64-bit",
   "language": "python",
   "name": "python3"
  },
  "language_info": {
   "codemirror_mode": {
    "name": "ipython",
    "version": 3
   },
   "file_extension": ".py",
   "mimetype": "text/x-python",
   "name": "python",
   "nbconvert_exporter": "python",
   "pygments_lexer": "ipython3",
   "version": "3.10.5"
  },
  "orig_nbformat": 4,
  "vscode": {
   "interpreter": {
    "hash": "aee8b7b246df8f9039afb4144a1f6fd8d2ca17a180786b69acc140d282b71a49"
   }
  }
 },
 "nbformat": 4,
 "nbformat_minor": 2
}
