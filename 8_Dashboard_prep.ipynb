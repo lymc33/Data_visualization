{
 "cells": [
  {
   "cell_type": "code",
   "execution_count": null,
   "metadata": {},
   "outputs": [],
   "source": [
    "import panel as pn\n",
    "pn.extension()\n",
    "\n",
    "kw = dict(plot1_f1=breast_cancer.feature_names,\n",
    "          plot1_f2=breast_cancer.feature_names,\n",
    "          plot2_f=breast_cancer.feature_names,\n",
    "          plot3_f=breast_cancer.feature_names)\n",
    "\n",
    "dash1 = pn.interact(create_figure, **kw)\n",
    "dash1"
   ]
  },
  {
   "cell_type": "code",
   "execution_count": null,
   "metadata": {},
   "outputs": [],
   "source": [
    "html.Img(src=app.get_asset_url('my-image.png'))"
   ]
  }
 ],
 "metadata": {
  "language_info": {
   "name": "python"
  },
  "orig_nbformat": 4
 },
 "nbformat": 4,
 "nbformat_minor": 2
}
