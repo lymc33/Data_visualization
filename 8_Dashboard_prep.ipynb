{
 "cells": [
  {
   "cell_type": "code",
   "execution_count": 1,
   "metadata": {},
   "outputs": [],
   "source": [
    "import shutil"
   ]
  },
  {
   "cell_type": "code",
   "execution_count": 3,
   "metadata": {},
   "outputs": [
    {
     "ename": "FileNotFoundError",
     "evalue": "[Errno 2] No such file or directory: '/Users/yairmartinez/Documents/GitHub/Data_visualization/Load/Gráficas/1_Venta_en_cantidad_por_estado.jpg'",
     "output_type": "error",
     "traceback": [
      "\u001b[0;31m---------------------------------------------------------------------------\u001b[0m",
      "\u001b[0;31mFileNotFoundError\u001b[0m                         Traceback (most recent call last)",
      "\u001b[1;32m/Users/yairmartinez/Documents/GitHub/Data_visualization/8_Dashboard_prep.ipynb Cell 2'\u001b[0m in \u001b[0;36m<cell line: 18>\u001b[0;34m()\u001b[0m\n\u001b[1;32m     <a href='vscode-notebook-cell:/Users/yairmartinez/Documents/GitHub/Data_visualization/8_Dashboard_prep.ipynb#ch0000004?line=13'>14</a>\u001b[0m posFinal\u001b[39m=\u001b[39m \u001b[39m'\u001b[39m\u001b[39m/Users/yairmartinez/Documents/GitHub/Data_visualization/Transform/assets\u001b[39m\u001b[39m'\u001b[39m\n\u001b[1;32m     <a href='vscode-notebook-cell:/Users/yairmartinez/Documents/GitHub/Data_visualization/8_Dashboard_prep.ipynb#ch0000004?line=15'>16</a>\u001b[0m shutil\u001b[39m.\u001b[39mmove(pos1,pos2)\n\u001b[0;32m---> <a href='vscode-notebook-cell:/Users/yairmartinez/Documents/GitHub/Data_visualization/8_Dashboard_prep.ipynb#ch0000004?line=17'>18</a>\u001b[0m shutil\u001b[39m.\u001b[39;49mcopy2( pos1, posFinal)\n\u001b[1;32m     <a href='vscode-notebook-cell:/Users/yairmartinez/Documents/GitHub/Data_visualization/8_Dashboard_prep.ipynb#ch0000004?line=18'>19</a>\u001b[0m shutil\u001b[39m.\u001b[39mcopy2( pos2, posFinal)\n\u001b[1;32m     <a href='vscode-notebook-cell:/Users/yairmartinez/Documents/GitHub/Data_visualization/8_Dashboard_prep.ipynb#ch0000004?line=19'>20</a>\u001b[0m shutil\u001b[39m.\u001b[39mcopy2( pos3, posFinal)\n",
      "File \u001b[0;32m/Library/Frameworks/Python.framework/Versions/3.10/lib/python3.10/shutil.py:434\u001b[0m, in \u001b[0;36mcopy2\u001b[0;34m(src, dst, follow_symlinks)\u001b[0m\n\u001b[1;32m    432\u001b[0m \u001b[39mif\u001b[39;00m os\u001b[39m.\u001b[39mpath\u001b[39m.\u001b[39misdir(dst):\n\u001b[1;32m    433\u001b[0m     dst \u001b[39m=\u001b[39m os\u001b[39m.\u001b[39mpath\u001b[39m.\u001b[39mjoin(dst, os\u001b[39m.\u001b[39mpath\u001b[39m.\u001b[39mbasename(src))\n\u001b[0;32m--> 434\u001b[0m copyfile(src, dst, follow_symlinks\u001b[39m=\u001b[39;49mfollow_symlinks)\n\u001b[1;32m    435\u001b[0m copystat(src, dst, follow_symlinks\u001b[39m=\u001b[39mfollow_symlinks)\n\u001b[1;32m    436\u001b[0m \u001b[39mreturn\u001b[39;00m dst\n",
      "File \u001b[0;32m/Library/Frameworks/Python.framework/Versions/3.10/lib/python3.10/shutil.py:254\u001b[0m, in \u001b[0;36mcopyfile\u001b[0;34m(src, dst, follow_symlinks)\u001b[0m\n\u001b[1;32m    252\u001b[0m     os\u001b[39m.\u001b[39msymlink(os\u001b[39m.\u001b[39mreadlink(src), dst)\n\u001b[1;32m    253\u001b[0m \u001b[39melse\u001b[39;00m:\n\u001b[0;32m--> 254\u001b[0m     \u001b[39mwith\u001b[39;00m \u001b[39mopen\u001b[39;49m(src, \u001b[39m'\u001b[39;49m\u001b[39mrb\u001b[39;49m\u001b[39m'\u001b[39;49m) \u001b[39mas\u001b[39;00m fsrc:\n\u001b[1;32m    255\u001b[0m         \u001b[39mtry\u001b[39;00m:\n\u001b[1;32m    256\u001b[0m             \u001b[39mwith\u001b[39;00m \u001b[39mopen\u001b[39m(dst, \u001b[39m'\u001b[39m\u001b[39mwb\u001b[39m\u001b[39m'\u001b[39m) \u001b[39mas\u001b[39;00m fdst:\n\u001b[1;32m    257\u001b[0m                 \u001b[39m# macOS\u001b[39;00m\n",
      "\u001b[0;31mFileNotFoundError\u001b[0m: [Errno 2] No such file or directory: '/Users/yairmartinez/Documents/GitHub/Data_visualization/Load/Gráficas/1_Venta_en_cantidad_por_estado.jpg'"
     ]
    }
   ],
   "source": [
    "pos1= '/Users/yairmartinez/Documents/GitHub/Data_visualization/Load/Gráficas/1_Venta_en_cantidad_por_estado.jpg'\n",
    "pos2= '/Users/yairmartinez/Documents/GitHub/Data_visualization/Load/Gráficas/2_Venta_en_cantidad_por_tienda_CA.jpg'\n",
    "pos3= '/Users/yairmartinez/Documents/GitHub/Data_visualization/Load/Gráficas/3_Venta_en_cantidad_por_tienda_TX.jpg'\n",
    "pos4= '/Users/yairmartinez/Documents/GitHub/Data_visualization/Load/Gráficas/4_Venta_en_cantidad_por_tienda_WI.jpg'\n",
    "pos5= '/Users/yairmartinez/Documents/GitHub/Data_visualization/Load/Gráficas/5_Venta_en_cantidad_por_cat&dept.jpg'\n",
    "pos6= '/Users/yairmartinez/Documents/GitHub/Data_visualization/Load/Gráficas/6_Venta_en_cantidad_por_cat&dept_CA.jpg'\n",
    "pos7= '/Users/yairmartinez/Documents/GitHub/Data_visualization/Load/Gráficas/7_Venta_en_cantidad_por_cat&dept_TX.jpg'\n",
    "pos8= '/Users/yairmartinez/Documents/GitHub/Data_visualization/Load/Gráficas/8_Venta_en_cantidad_por_cat&dept_WI.jpg'\n",
    "pos9= '/Users/yairmartinez/Documents/GitHub/Data_visualization/Load/Gráficas/9_Dispersion_Venta_en_cantidad_por_cat&state.jpg'\n",
    "pos10= '/Users/yairmartinez/Documents/GitHub/Data_visualization/Load/Gráficas/10_Dispersion_Venta_en_cantidad_por_dept&state.jpg'\n",
    "pos11= '/Users/yairmartinez/Documents/GitHub/Data_visualization/Load/Tablas/11_cat_tab_percentage.png'\n",
    "pos12= '/Users/yairmartinez/Documents/GitHub/Data_visualization/Load/Tablas/12_dep_tab_percentage.png'\n",
    "\n",
    "posFinal= '/Users/yairmartinez/Documents/GitHub/Data_visualization/Transform/assets'\n",
    "\n",
    "shutil.copy2( pos1, posFinal)\n",
    "shutil.copy2( pos2, posFinal)\n",
    "shutil.copy2( pos3, posFinal)\n",
    "shutil.copy2( pos4, posFinal)\n",
    "shutil.copy2( pos5, posFinal)\n",
    "shutil.copy2( pos6, posFinal)\n",
    "shutil.copy2( pos7, posFinal)\n",
    "shutil.copy2( pos8, posFinal)\n",
    "shutil.copy2( pos9, posFinal)\n",
    "shutil.copy2( pos10, posFinal)\n",
    "shutil.copy2( pos11, posFinal)\n",
    "shutil.copy2( pos12, posFinal)"
   ]
  },
  {
   "cell_type": "code",
   "execution_count": null,
   "metadata": {},
   "outputs": [],
   "source": [
    "# import panel as pn\n",
    "# pn.extension()\n",
    "\n",
    "# kw = dict(plot1_f1=breast_cancer.feature_names,\n",
    "#           plot1_f2=breast_cancer.feature_names,\n",
    "#           plot2_f=breast_cancer.feature_names,\n",
    "#           plot3_f=breast_cancer.feature_names)\n",
    "\n",
    "# dash1 = pn.interact(create_figure, **kw)\n",
    "# dash1"
   ]
  },
  {
   "cell_type": "code",
   "execution_count": null,
   "metadata": {},
   "outputs": [],
   "source": [
    "# html.Img(src=app.get_asset_url('my-image.png'))"
   ]
  }
 ],
 "metadata": {
  "kernelspec": {
   "display_name": "Python 3.10.5 ('venv': venv)",
   "language": "python",
   "name": "python3"
  },
  "language_info": {
   "codemirror_mode": {
    "name": "ipython",
    "version": 3
   },
   "file_extension": ".py",
   "mimetype": "text/x-python",
   "name": "python",
   "nbconvert_exporter": "python",
   "pygments_lexer": "ipython3",
   "version": "3.10.5"
  },
  "orig_nbformat": 4,
  "vscode": {
   "interpreter": {
    "hash": "b26b63031eddbc2d7a34ccd6204b2c9e9bf7d8f4d66fa8ce636fc16026769adc"
   }
  }
 },
 "nbformat": 4,
 "nbformat_minor": 2
}
