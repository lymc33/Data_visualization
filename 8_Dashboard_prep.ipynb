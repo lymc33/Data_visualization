{
 "cells": [
  {
   "cell_type": "code",
   "execution_count": 1,
   "metadata": {},
   "outputs": [],
   "source": [
    "import shutil\n",
    "from PIL import Image"
   ]
  },
  {
   "cell_type": "code",
   "execution_count": 4,
   "metadata": {},
   "outputs": [],
   "source": [
    "pos1= r'/Users/yairmartinez/Documents/GitHub/Data_visualization/Load/Gráficas/1_Venta_en_cantidad_por_estado.jpg'\n",
    "pos2= r'/Users/yairmartinez/Documents/GitHub/Data_visualization/Load/Gráficas/2_Venta_en_cantidad_por_tienda_CA.jpg'\n",
    "pos3= r'/Users/yairmartinez/Documents/GitHub/Data_visualization/Load/Gráficas/3_Venta_en_cantidad_por_tienda_TX.jpg'\n",
    "pos4= r'/Users/yairmartinez/Documents/GitHub/Data_visualization/Load/Gráficas/4_Venta_en_cantidad_por_tienda_WI.jpg'\n",
    "pos5= r'/Users/yairmartinez/Documents/GitHub/Data_visualization/Load/Gráficas/5_Venta_en_cantidad_por_cat&dept.jpg'\n",
    "pos6= r'/Users/yairmartinez/Documents/GitHub/Data_visualization/Load/Gráficas/6_Venta_en_cantidad_por_cat&dept_CA.jpg'\n",
    "pos7= r'/Users/yairmartinez/Documents/GitHub/Data_visualization/Load/Gráficas/7_Venta_en_cantidad_por_cat&dept_TX.jpg'\n",
    "pos8= r'/Users/yairmartinez/Documents/GitHub/Data_visualization/Load/Gráficas/8_Venta_en_cantidad_por_cat&dept_WI.jpg'\n",
    "pos9= r'/Users/yairmartinez/Documents/GitHub/Data_visualization/Load/Gráficas/9_Dispersion_Venta_en_cantidad_por_cat&state.jpg'\n",
    "pos10= r'/Users/yairmartinez/Documents/GitHub/Data_visualization/Load/Gráficas/10_Dispersion_Venta_en_cantidad_por_dept&state.jpg'\n",
    "pos11= r'/Users/yairmartinez/Documents/GitHub/Data_visualization/Load/Tablas/11_cat_tab_percentage.png'\n",
    "pos12= r'/Users/yairmartinez/Documents/GitHub/Data_visualization/Load/Tablas/12_dep_tab_percentage.png'\n",
    "\n",
    "posFinal= '/Users/yairmartinez/Documents/GitHub/Data_visualization/Transform/assets'\n",
    "\n",
    "shutil.copy2( pos1, posFinal)\n",
    "shutil.copy2( pos2, posFinal)\n",
    "shutil.copy2( pos3, posFinal)\n",
    "shutil.copy2( pos4, posFinal)\n",
    "shutil.copy2( pos5, posFinal)\n",
    "shutil.copy2( pos6, posFinal)\n",
    "shutil.copy2( pos7, posFinal)\n",
    "shutil.copy2( pos8, posFinal)\n",
    "shutil.copy2( pos9, posFinal)\n",
    "shutil.copy2( pos10, posFinal)\n",
    "shutil.copy2( pos11, posFinal)\n",
    "shutil.copy2( pos12, posFinal)\n",
    "\n",
    "pos1m= r'/Users/yairmartinez/Documents/GitHub/Data_visualization/Transform/assets_png/1_Venta_en_cantidad_por_estado.png'\n",
    "pos2m= r'/Users/yairmartinez/Documents/GitHub/Data_visualization/Transform/assets_png/2_Venta_en_cantidad_por_tienda_CA.png'\n",
    "pos3m= r'/Users/yairmartinez/Documents/GitHub/Data_visualization/Transform/assets_png/3_Venta_en_cantidad_por_tienda_TX.png'\n",
    "pos4m= r'/Users/yairmartinez/Documents/GitHub/Data_visualization/Transform/assets_png/4_Venta_en_cantidad_por_tienda_WI.png'\n",
    "pos5m= r'/Users/yairmartinez/Documents/GitHub/Data_visualization/Transform/assets_png/5_Venta_en_cantidad_por_cat&dept.png'\n",
    "pos6m= r'/Users/yairmartinez/Documents/GitHub/Data_visualization/Transform/assets_png/6_Venta_en_cantidad_por_cat&dept_CA.png'\n",
    "pos7m= r'/Users/yairmartinez/Documents/GitHub/Data_visualization/Transform/assets_png/7_Venta_en_cantidad_por_cat&dept_TX.png'\n",
    "pos8m= r'/Users/yairmartinez/Documents/GitHub/Data_visualization/Transform/assets_png/8_Venta_en_cantidad_por_cat&dept_WI.png'\n",
    "pos9m= r'/Users/yairmartinez/Documents/GitHub/Data_visualization/Transform/assets_png/9_Dispersion_Venta_en_cantidad_por_cat&state.png'\n",
    "pos10m= r'/Users/yairmartinez/Documents/GitHub/Data_visualization/Transform/assets_png/10_Dispersion_Venta_en_cantidad_por_dept&state.png'\n",
    "pos11m= r'/Users/yairmartinez/Documents/GitHub/Data_visualization/Transform/assets_png/11_cat_tab_percentage.png'\n",
    "pos12m= r'/Users/yairmartinez/Documents/GitHub/Data_visualization/Transform/assets_png/12_dep_tab_percentage.png'\n",
    "\n",
    "from PIL import Image\n",
    "\n",
    "im1 = Image.open(pos1)\n",
    "im2 = Image.open(pos2)\n",
    "im3 = Image.open(pos3)\n",
    "im4 = Image.open(pos4)\n",
    "im5 = Image.open(pos5)\n",
    "im6 = Image.open(pos6)\n",
    "im7 = Image.open(pos7)\n",
    "im8 = Image.open(pos8)\n",
    "im9 = Image.open(pos9)\n",
    "im10 = Image.open(pos10)\n",
    "im11 = Image.open(pos11)\n",
    "im12 = Image.open(pos12)\n",
    "\n",
    "im1.save(pos1m)\n",
    "im2.save(pos2m)\n",
    "im3.save(pos3m)\n",
    "im4.save(pos4m)\n",
    "im5.save(pos5m)\n",
    "im6.save(pos6m)\n",
    "im7.save(pos7m)\n",
    "im8.save(pos8m)\n",
    "im9.save(pos9m)\n",
    "im10.save(pos10m)\n",
    "im11.save(pos11m)\n",
    "im12.save(pos12m)\n",
    "\n",
    "# from PIL import Image\n",
    "\n",
    "# im1 = Image.open(r'C:\\Users\\Ron\\Desktop\\Test\\autumn.jpg')\n",
    "# im1.save(r'C:\\Users\\Ron\\Desktop\\Test\\new_autumn.png')"
   ]
  },
  {
   "cell_type": "code",
   "execution_count": null,
   "metadata": {},
   "outputs": [],
   "source": [
    "# image_path_1 = '/Users/yairmartinez/Documents/GitHub/Data_visualization/Transform/assets/1_Venta_en_cantidad_por_estado.jpg'\n",
    "# image_path_2 = '/Users/yairmartinez/Documents/GitHub/Data_visualization/Transform/assets/1_Venta_en_cantidad_por_estado.jpg'\n",
    "# image_path_3 = '/Users/yairmartinez/Documents/GitHub/Data_visualization/Transform/assets/1_Venta_en_cantidad_por_estado.jpg'\n",
    "# image_path_4 = '/Users/yairmartinez/Documents/GitHub/Data_visualization/Transform/assets/1_Venta_en_cantidad_por_estado.jpg'\n",
    "# image_path_5 = '/Users/yairmartinez/Documents/GitHub/Data_visualization/Transform/assets/1_Venta_en_cantidad_por_estado.jpg'\n",
    "# image_path_6 = '/Users/yairmartinez/Documents/GitHub/Data_visualization/Transform/assets/1_Venta_en_cantidad_por_estado.jpg'\n",
    "# image_path_7 = '/Users/yairmartinez/Documents/GitHub/Data_visualization/Transform/assets/1_Venta_en_cantidad_por_estado.jpg'\n",
    "# image_path_8 = '/Users/yairmartinez/Documents/GitHub/Data_visualization/Transform/assets/1_Venta_en_cantidad_por_estado.jpg'\n",
    "# image_path_9 = '/Users/yairmartinez/Documents/GitHub/Data_visualization/Transform/assets/1_Venta_en_cantidad_por_estado.jpg'\n",
    "# image_path_10 = '/Users/yairmartinez/Documents/GitHub/Data_visualization/Transform/assets/1_Venta_en_cantidad_por_estado.jpg'\n",
    "# image_path_11 = '/Users/yairmartinez/Documents/GitHub/Data_visualization/Transform/assets/1_Venta_en_cantidad_por_estado.jpg'\n",
    "# image_path_12 = '/Users/yairmartinez/Documents/GitHub/Data_visualization/Transform/assets/1_Venta_en_cantidad_por_estado.jpg'"
   ]
  },
  {
   "cell_type": "code",
   "execution_count": null,
   "metadata": {},
   "outputs": [],
   "source": [
    "# import panel as pn\n",
    "# pn.extension()\n",
    "\n",
    "# kw = dict(plot1_f1=breast_cancer.feature_names,\n",
    "#           plot1_f2=breast_cancer.feature_names,\n",
    "#           plot2_f=breast_cancer.feature_names,\n",
    "#           plot3_f=breast_cancer.feature_names)\n",
    "\n",
    "# dash1 = pn.interact(create_figure, **kw)\n",
    "# dash1"
   ]
  },
  {
   "cell_type": "code",
   "execution_count": null,
   "metadata": {},
   "outputs": [],
   "source": [
    "# html.Img(src=app.get_asset_url('my-image.png'))"
   ]
  }
 ],
 "metadata": {
  "kernelspec": {
   "display_name": "Python 3.9.7 ('base')",
   "language": "python",
   "name": "python3"
  },
  "language_info": {
   "codemirror_mode": {
    "name": "ipython",
    "version": 3
   },
   "file_extension": ".py",
   "mimetype": "text/x-python",
   "name": "python",
   "nbconvert_exporter": "python",
   "pygments_lexer": "ipython3",
   "version": "3.9.7"
  },
  "orig_nbformat": 4,
  "vscode": {
   "interpreter": {
    "hash": "40d3a090f54c6569ab1632332b64b2c03c39dcf918b08424e98f38b5ae0af88f"
   }
  }
 },
 "nbformat": 4,
 "nbformat_minor": 2
}
