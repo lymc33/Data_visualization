{
 "cells": [
  {
   "cell_type": "code",
   "execution_count": 10,
   "metadata": {},
   "outputs": [
    {
     "ename": "ModuleNotFoundError",
     "evalue": "No module named 'PIL'",
     "output_type": "error",
     "traceback": [
      "\u001b[0;31m---------------------------------------------------------------------------\u001b[0m",
      "\u001b[0;31mModuleNotFoundError\u001b[0m                       Traceback (most recent call last)",
      "\u001b[1;32m/Users/yairmartinez/Documents/GitHub/Data_visualization/8_Dashboard_prep.ipynb Cell 1'\u001b[0m in \u001b[0;36m<cell line: 2>\u001b[0;34m()\u001b[0m\n\u001b[1;32m      <a href='vscode-notebook-cell:/Users/yairmartinez/Documents/GitHub/Data_visualization/8_Dashboard_prep.ipynb#ch0000005?line=0'>1</a>\u001b[0m \u001b[39mimport\u001b[39;00m \u001b[39mshutil\u001b[39;00m\n\u001b[0;32m----> <a href='vscode-notebook-cell:/Users/yairmartinez/Documents/GitHub/Data_visualization/8_Dashboard_prep.ipynb#ch0000005?line=1'>2</a>\u001b[0m \u001b[39mfrom\u001b[39;00m \u001b[39mPIL\u001b[39;00m \u001b[39mimport\u001b[39;00m Image\n",
      "\u001b[0;31mModuleNotFoundError\u001b[0m: No module named 'PIL'"
     ]
    }
   ],
   "source": [
    "import shutil\n",
    "from PIL import Image"
   ]
  },
  {
   "cell_type": "code",
   "execution_count": 8,
   "metadata": {},
   "outputs": [
    {
     "data": {
      "text/plain": [
       "'/Users/yairmartinez/Documents/GitHub/Data_visualization/Transform/assets/12_dep_tab_percentage.png'"
      ]
     },
     "execution_count": 8,
     "metadata": {},
     "output_type": "execute_result"
    }
   ],
   "source": [
    "pos1= '/Users/yairmartinez/Documents/GitHub/Data_visualization/Load/Gráficas/1_Venta_en_cantidad_por_estado.jpg'\n",
    "pos2= '/Users/yairmartinez/Documents/GitHub/Data_visualization/Load/Gráficas/2_Venta_en_cantidad_por_tienda_CA.jpg'\n",
    "pos3= '/Users/yairmartinez/Documents/GitHub/Data_visualization/Load/Gráficas/3_Venta_en_cantidad_por_tienda_TX.jpg'\n",
    "pos4= '/Users/yairmartinez/Documents/GitHub/Data_visualization/Load/Gráficas/4_Venta_en_cantidad_por_tienda_WI.jpg'\n",
    "pos5= '/Users/yairmartinez/Documents/GitHub/Data_visualization/Load/Gráficas/5_Venta_en_cantidad_por_cat&dept.jpg'\n",
    "pos6= '/Users/yairmartinez/Documents/GitHub/Data_visualization/Load/Gráficas/6_Venta_en_cantidad_por_cat&dept_CA.jpg'\n",
    "pos7= '/Users/yairmartinez/Documents/GitHub/Data_visualization/Load/Gráficas/7_Venta_en_cantidad_por_cat&dept_TX.jpg'\n",
    "pos8= '/Users/yairmartinez/Documents/GitHub/Data_visualization/Load/Gráficas/8_Venta_en_cantidad_por_cat&dept_WI.jpg'\n",
    "pos9= '/Users/yairmartinez/Documents/GitHub/Data_visualization/Load/Gráficas/9_Dispersion_Venta_en_cantidad_por_cat&state.jpg'\n",
    "pos10= '/Users/yairmartinez/Documents/GitHub/Data_visualization/Load/Gráficas/10_Dispersion_Venta_en_cantidad_por_dept&state.jpg'\n",
    "pos11= '/Users/yairmartinez/Documents/GitHub/Data_visualization/Load/Tablas/11_cat_tab_percentage.png'\n",
    "pos12= '/Users/yairmartinez/Documents/GitHub/Data_visualization/Load/Tablas/12_dep_tab_percentage.png'\n",
    "\n",
    "posFinal= '/Users/yairmartinez/Documents/GitHub/Data_visualization/Transform/assets'\n",
    "\n",
    "shutil.copy2( pos1, posFinal)\n",
    "shutil.copy2( pos2, posFinal)\n",
    "shutil.copy2( pos3, posFinal)\n",
    "shutil.copy2( pos4, posFinal)\n",
    "shutil.copy2( pos5, posFinal)\n",
    "shutil.copy2( pos6, posFinal)\n",
    "shutil.copy2( pos7, posFinal)\n",
    "shutil.copy2( pos8, posFinal)\n",
    "shutil.copy2( pos9, posFinal)\n",
    "shutil.copy2( pos10, posFinal)\n",
    "shutil.copy2( pos11, posFinal)\n",
    "shutil.copy2( pos12, posFinal)"
   ]
  },
  {
   "cell_type": "code",
   "execution_count": 9,
   "metadata": {},
   "outputs": [],
   "source": [
    "image_path_1 = '/Users/yairmartinez/Documents/GitHub/Data_visualization/Transform/assets/1_Venta_en_cantidad_por_estado.jpg'\n",
    "image_path_2 = '/Users/yairmartinez/Documents/GitHub/Data_visualization/Transform/assets/1_Venta_en_cantidad_por_estado.jpg'\n",
    "image_path_3 = '/Users/yairmartinez/Documents/GitHub/Data_visualization/Transform/assets/1_Venta_en_cantidad_por_estado.jpg'\n",
    "image_path_4 = '/Users/yairmartinez/Documents/GitHub/Data_visualization/Transform/assets/1_Venta_en_cantidad_por_estado.jpg'\n",
    "image_path_5 = '/Users/yairmartinez/Documents/GitHub/Data_visualization/Transform/assets/1_Venta_en_cantidad_por_estado.jpg'\n",
    "image_path_6 = '/Users/yairmartinez/Documents/GitHub/Data_visualization/Transform/assets/1_Venta_en_cantidad_por_estado.jpg'\n",
    "image_path_7 = '/Users/yairmartinez/Documents/GitHub/Data_visualization/Transform/assets/1_Venta_en_cantidad_por_estado.jpg'\n",
    "image_path_8 = '/Users/yairmartinez/Documents/GitHub/Data_visualization/Transform/assets/1_Venta_en_cantidad_por_estado.jpg'\n",
    "image_path_9 = '/Users/yairmartinez/Documents/GitHub/Data_visualization/Transform/assets/1_Venta_en_cantidad_por_estado.jpg'\n",
    "image_path_10 = '/Users/yairmartinez/Documents/GitHub/Data_visualization/Transform/assets/1_Venta_en_cantidad_por_estado.jpg'\n",
    "image_path_11 = '/Users/yairmartinez/Documents/GitHub/Data_visualization/Transform/assets/1_Venta_en_cantidad_por_estado.jpg'\n",
    "image_path_12 = '/Users/yairmartinez/Documents/GitHub/Data_visualization/Transform/assets/1_Venta_en_cantidad_por_estado.jpg'"
   ]
  },
  {
   "cell_type": "code",
   "execution_count": null,
   "metadata": {},
   "outputs": [],
   "source": [
    "html.Img(src=image_path)"
   ]
  },
  {
   "cell_type": "code",
   "execution_count": 6,
   "metadata": {},
   "outputs": [],
   "source": [
    "# import panel as pn\n",
    "# pn.extension()\n",
    "\n",
    "# kw = dict(plot1_f1=breast_cancer.feature_names,\n",
    "#           plot1_f2=breast_cancer.feature_names,\n",
    "#           plot2_f=breast_cancer.feature_names,\n",
    "#           plot3_f=breast_cancer.feature_names)\n",
    "\n",
    "# dash1 = pn.interact(create_figure, **kw)\n",
    "# dash1"
   ]
  },
  {
   "cell_type": "code",
   "execution_count": 7,
   "metadata": {},
   "outputs": [],
   "source": [
    "# html.Img(src=app.get_asset_url('my-image.png'))"
   ]
  }
 ],
 "metadata": {
  "kernelspec": {
   "display_name": "Python 3.10.5 ('venv': venv)",
   "language": "python",
   "name": "python3"
  },
  "language_info": {
   "codemirror_mode": {
    "name": "ipython",
    "version": 3
   },
   "file_extension": ".py",
   "mimetype": "text/x-python",
   "name": "python",
   "nbconvert_exporter": "python",
   "pygments_lexer": "ipython3",
   "version": "3.10.5"
  },
  "orig_nbformat": 4,
  "vscode": {
   "interpreter": {
    "hash": "b26b63031eddbc2d7a34ccd6204b2c9e9bf7d8f4d66fa8ce636fc16026769adc"
   }
  }
 },
 "nbformat": 4,
 "nbformat_minor": 2
}
