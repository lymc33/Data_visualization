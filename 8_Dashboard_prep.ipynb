{
 "cells": [
  {
   "cell_type": "code",
   "execution_count": null,
   "metadata": {},
   "outputs": [],
   "source": [
    "import panel as pn\n",
    "pn.extension()\n",
    "\n",
    "kw = dict(plot1_f1=breast_cancer.feature_names,\n",
    "          plot1_f2=breast_cancer.feature_names,\n",
    "          plot2_f=breast_cancer.feature_names,\n",
    "          plot3_f=breast_cancer.feature_names)\n",
    "\n",
    "dash1 = pn.interact(create_figure, **kw)\n",
    "dash1"
   ]
  }
 ],
 "metadata": {
  "language_info": {
   "name": "python"
  },
  "orig_nbformat": 4
 },
 "nbformat": 4,
 "nbformat_minor": 2
}
