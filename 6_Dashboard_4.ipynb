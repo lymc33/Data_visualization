{
 "cells": [
  {
   "cell_type": "code",
   "execution_count": null,
   "metadata": {},
   "outputs": [],
   "source": [
    "import pandas as pd\n",
    "import numpy as np\n",
    "import matplotlib.pyplot as plt"
   ]
  },
  {
   "cell_type": "code",
   "execution_count": null,
   "metadata": {},
   "outputs": [],
   "source": [
    "df1 = pd.read_csv('/Users/yairmartinez/Documents/GitHub/Data_visualization/Extract/sales_train_evaluation.csv' , header= None )\n",
    "df2= pd.read_csv('/Users/yairmartinez/Documents/GitHub/Data_visualization/Extract/sell_prices.csv')\n",
    "df3= pd.read_csv('/Users/yairmartinez/Documents/GitHub/Data_visualization/Extract/calendar.csv')"
   ]
  },
  {
   "cell_type": "code",
   "execution_count": null,
   "metadata": {},
   "outputs": [],
   "source": [
    "df1.head(5)"
   ]
  },
  {
   "cell_type": "code",
   "execution_count": null,
   "metadata": {},
   "outputs": [],
   "source": [
    "df2.head(5)"
   ]
  },
  {
   "cell_type": "code",
   "execution_count": null,
   "metadata": {},
   "outputs": [],
   "source": [
    "df3.tail(5)"
   ]
  },
  {
   "cell_type": "code",
   "execution_count": null,
   "metadata": {},
   "outputs": [],
   "source": [
    "# Dic day to week\n",
    "dict_d_2_week =dict(zip( df3['d'], df3['wm_yr_wk']))\n",
    "\n",
    "sust= []\n",
    "# Change d for week \n",
    "for x in df1.iloc[0]:\n",
    "    if x in  dict_d_2_week:\n",
    "        sust.append ( dict_d_2_week[x] )\n",
    "\n",
    "df1.iloc[0, 6:] = sust\n",
    "\n",
    "# Change first row to index\n",
    "new_header = df1.iloc[0] #grab the first row for the header\n",
    "df1 = df1[1:] #take the data less the header row\n",
    "df1.columns = new_header #set the header row as the df header"
   ]
  },
  {
   "cell_type": "code",
   "execution_count": null,
   "metadata": {},
   "outputs": [],
   "source": [
    "df1.head(3)"
   ]
  },
  {
   "cell_type": "code",
   "execution_count": null,
   "metadata": {},
   "outputs": [],
   "source": [
    "tiendas = df2.pivot_table(index=['store_id'], aggfunc='size')\n",
    "print (tiendas)"
   ]
  },
  {
   "cell_type": "code",
   "execution_count": null,
   "metadata": {},
   "outputs": [],
   "source": [
    "# Data Frame 1\n",
    "df1_CA_1 = df1[ ( df1['store_id'] == 'CA_1' ) ]\n",
    "df1_CA_2 = df1[ ( df1['store_id'] == 'CA_2' ) ]\n",
    "df1_CA_3 = df1[ ( df1['store_id'] == 'CA_3' ) ]\n",
    "df1_CA_4 = df1[ ( df1['store_id'] == 'CA_4' ) ]\n",
    "\n",
    "df1_TX_1 = df1[ ( df1['store_id'] == 'TX_1' ) ]\n",
    "df1_TX_2 = df1[ ( df1['store_id'] == 'TX_2' ) ]\n",
    "df1_TX_3 = df1[ ( df1['store_id'] == 'TX_3' ) ]\n",
    "\n",
    "df1_WI_1 = df1[ ( df1['store_id'] == 'WI_1' ) ]\n",
    "df1_WI_2 = df1[ ( df1['store_id'] == 'WI_2' ) ]\n",
    "df1_WI_3 = df1[ ( df1['store_id'] == 'WI_3' ) ]\n",
    "\n",
    "# Data Frame 2 \n",
    "df2_CA_1 = df2[ ( df2['store_id'] == 'CA_1' ) ]\n",
    "df2_CA_2 = df2[ ( df2['store_id'] == 'CA_2' ) ]\n",
    "df2_CA_3 = df2[ ( df2['store_id'] == 'CA_3' ) ]\n",
    "df2_CA_4 = df2[ ( df2['store_id'] == 'CA_4' ) ]\n",
    "\n",
    "df2_TX_1 = df2[ ( df2['store_id'] == 'TX_1' ) ]\n",
    "df2_TX_2 = df2[ ( df2['store_id'] == 'TX_2' ) ]\n",
    "df2_TX_3 = df2[ ( df2['store_id'] == 'TX_3' ) ]\n",
    "\n",
    "df2_WI_1 = df2[ ( df2['store_id'] == 'WI_1' ) ]\n",
    "df2_WI_2 = df2[ ( df2['store_id'] == 'WI_2' ) ]\n",
    "df2_WI_3 = df2[ ( df2['store_id'] == 'WI_3' ) ]"
   ]
  },
  {
   "cell_type": "code",
   "execution_count": null,
   "metadata": {},
   "outputs": [],
   "source": [
    "df1_CA_1 = df1_CA_1.drop(['id', 'dept_id','cat_id', 'store_id', 'state_id'  ], axis=1)\n",
    "\n",
    "df2_CA_1 = df2_CA_1.drop(['store_id'], axis=1)"
   ]
  },
  {
   "cell_type": "code",
   "execution_count": null,
   "metadata": {},
   "outputs": [],
   "source": [
    "df1_CA_1"
   ]
  },
  {
   "cell_type": "code",
   "execution_count": null,
   "metadata": {},
   "outputs": [],
   "source": [
    "df2_CA_1"
   ]
  },
  {
   "cell_type": "code",
   "execution_count": null,
   "metadata": {},
   "outputs": [],
   "source": [
    "df2_CA_1.groupby('item_id').head()"
   ]
  },
  {
   "cell_type": "code",
   "execution_count": null,
   "metadata": {},
   "outputs": [],
   "source": [
    "df2_CA_1['wm_yr_wk']\n",
    "\n",
    "# df['equal_or_lower_than_4?'] = df['set_of_numbers'].apply(lambda x: 'True' if x <= 4 else 'False')"
   ]
  },
  {
   "cell_type": "code",
   "execution_count": null,
   "metadata": {},
   "outputs": [],
   "source": [
    "df1_CA_1.iloc[   df1_CA_1.index == 1  ]"
   ]
  },
  {
   "cell_type": "code",
   "execution_count": null,
   "metadata": {},
   "outputs": [],
   "source": [
    "# rrr = (df1_CA_1.iloc[ df1_CA_1.index == 1 ]['item_id'].astype('str'))\n",
    "rrr = (df1_CA_1.iloc[ df1_CA_1.index == 1 ]['item_id'])\n"
   ]
  },
  {
   "cell_type": "code",
   "execution_count": null,
   "metadata": {},
   "outputs": [],
   "source": [
    "rrr= rrr.to_frame()"
   ]
  },
  {
   "cell_type": "code",
   "execution_count": null,
   "metadata": {},
   "outputs": [],
   "source": [
    "type(rrr)"
   ]
  },
  {
   "cell_type": "code",
   "execution_count": null,
   "metadata": {},
   "outputs": [],
   "source": [
    "df1_CA_1.columns[1]"
   ]
  },
  {
   "cell_type": "code",
   "execution_count": null,
   "metadata": {},
   "outputs": [],
   "source": [
    "df2_CA_1['item_id'] , df2_CA_1['wm_yr_wk'], df2_CA_1['sell_price']"
   ]
  },
  {
   "cell_type": "code",
   "execution_count": null,
   "metadata": {},
   "outputs": [],
   "source": [
    "df2_CA_1[  (df2_CA_1['item_id'] == rrr )  ]"
   ]
  },
  {
   "cell_type": "code",
   "execution_count": null,
   "metadata": {},
   "outputs": [],
   "source": [
    "df2_CA_1.groupby('item_id').head()"
   ]
  },
  {
   "cell_type": "code",
   "execution_count": null,
   "metadata": {},
   "outputs": [],
   "source": [
    "df1_CA_1.columns"
   ]
  },
  {
   "cell_type": "code",
   "execution_count": null,
   "metadata": {},
   "outputs": [],
   "source": [
    "if df1_CA_1.loc[ df1_CA_1.index == 1 ]['item_id'] isin df2_CA_1['item_id']:\n",
    "    print('yes')"
   ]
  },
  {
   "cell_type": "code",
   "execution_count": null,
   "metadata": {},
   "outputs": [],
   "source": [
    "df1_CA_1.iloc[:,1]"
   ]
  },
  {
   "cell_type": "code",
   "execution_count": null,
   "metadata": {},
   "outputs": [],
   "source": [
    "for x in df1_CA_1.index:\n",
    "    print(  df1_CA_1.iloc[:,x]  )"
   ]
  },
  {
   "cell_type": "code",
   "execution_count": null,
   "metadata": {},
   "outputs": [],
   "source": [
    "# for i, j in df1.iterrows():\n",
    "\n",
    "# data = {'set_of_numbers': [1, 2, 3, 4, 5, 6, 7, 8, 9, 10]}\n",
    "# df = pd.DataFrame(data)\n",
    "\n",
    "# df['equal_or_lower_than_4?'] = df['set_of_numbers'].apply(lambda x: 'True' if x <= 4 else 'False')\n",
    "\n",
    "# df2.groupby('item_id').head(5)\n",
    "# filtered_df=df[(df.C_2 < 40) & (df.C_3 > 450)]\n"
   ]
  }
 ],
 "metadata": {
  "kernelspec": {
   "display_name": "Python 3.10.5 64-bit",
   "language": "python",
   "name": "python3"
  },
  "language_info": {
   "codemirror_mode": {
    "name": "ipython",
    "version": 3
   },
   "file_extension": ".py",
   "mimetype": "text/x-python",
   "name": "python",
   "nbconvert_exporter": "python",
   "pygments_lexer": "ipython3",
   "version": "3.10.5"
  },
  "orig_nbformat": 4,
  "vscode": {
   "interpreter": {
    "hash": "aee8b7b246df8f9039afb4144a1f6fd8d2ca17a180786b69acc140d282b71a49"
   }
  }
 },
 "nbformat": 4,
 "nbformat_minor": 2
}
